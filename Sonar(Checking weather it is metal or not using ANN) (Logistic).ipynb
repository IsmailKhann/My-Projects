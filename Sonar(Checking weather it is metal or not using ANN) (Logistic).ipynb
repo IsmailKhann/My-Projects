{
 "cells": [
  {
   "cell_type": "code",
   "execution_count": 1,
   "metadata": {},
   "outputs": [],
   "source": [
    "import pandas as pd\n",
    "data=pd.read_csv(\"D:\\\\programs\\\\Excel files\\\\Sonar.csv\",encoding=\"ISO-8859-1\")"
   ]
  },
  {
   "cell_type": "code",
   "execution_count": 4,
   "metadata": {},
   "outputs": [
    {
     "data": {
      "text/plain": [
       "V1       0\n",
       "V2       0\n",
       "V3       0\n",
       "V4       0\n",
       "V5       0\n",
       "        ..\n",
       "V57      0\n",
       "V58      0\n",
       "V59      0\n",
       "V60      0\n",
       "Class    0\n",
       "Length: 61, dtype: int64"
      ]
     },
     "execution_count": 4,
     "metadata": {},
     "output_type": "execute_result"
    }
   ],
   "source": [
    "data.drop_duplicates(inplace=True)\n",
    "data.isnull().sum()"
   ]
  },
  {
   "cell_type": "code",
   "execution_count": 14,
   "metadata": {},
   "outputs": [],
   "source": [
    "X=data.iloc[:,data.columns!='BI'].values\n",
    "Y=data['Class'].values"
   ]
  },
  {
   "cell_type": "code",
   "execution_count": 15,
   "metadata": {},
   "outputs": [],
   "source": [
    "from sklearn.model_selection import train_test_split\n",
    "X_train,X_test,Y_train,Y_test=train_test_split(X,Y,test_size=0.20,random_state=0)"
   ]
  },
  {
   "cell_type": "code",
   "execution_count": 17,
   "metadata": {},
   "outputs": [],
   "source": [
    "from sklearn.preprocessing import StandardScaler\n",
    "sc=StandardScaler()\n",
    "X_train=sc.fit_transform(X_train)\n",
    "X_test=sc.transform(X_test)"
   ]
  },
  {
   "cell_type": "code",
   "execution_count": 35,
   "metadata": {},
   "outputs": [],
   "source": [
    "from sklearn.neural_network import MLPClassifier\n",
    "mlp=MLPClassifier(hidden_layer_sizes=(20,),alpha=1e-5,solver='sgd',activation='logistic',tol=1e-4,learning_rate_init=0.1,verbose=True,random_state=1)"
   ]
  },
  {
   "cell_type": "code",
   "execution_count": 36,
   "metadata": {},
   "outputs": [
    {
     "name": "stdout",
     "output_type": "stream",
     "text": [
      "Iteration 1, loss = 0.70022643\n",
      "Iteration 2, loss = 0.69400455\n",
      "Iteration 3, loss = 0.68559989\n",
      "Iteration 4, loss = 0.67549311\n",
      "Iteration 5, loss = 0.66400397\n",
      "Iteration 6, loss = 0.65131903\n",
      "Iteration 7, loss = 0.63753520\n",
      "Iteration 8, loss = 0.62269423\n",
      "Iteration 9, loss = 0.60680399\n",
      "Iteration 10, loss = 0.58985449\n",
      "Iteration 11, loss = 0.57183665\n",
      "Iteration 12, loss = 0.55276428\n",
      "Iteration 13, loss = 0.53269370\n",
      "Iteration 14, loss = 0.51173312\n",
      "Iteration 15, loss = 0.49003812\n",
      "Iteration 16, loss = 0.46779513\n",
      "Iteration 17, loss = 0.44519957\n",
      "Iteration 18, loss = 0.42243631\n",
      "Iteration 19, loss = 0.39966794\n",
      "Iteration 20, loss = 0.37703254\n",
      "Iteration 21, loss = 0.35464884\n",
      "Iteration 22, loss = 0.33262523\n",
      "Iteration 23, loss = 0.31106813\n",
      "Iteration 24, loss = 0.29008697\n",
      "Iteration 25, loss = 0.26979399\n",
      "Iteration 26, loss = 0.25029920\n",
      "Iteration 27, loss = 0.23170235\n",
      "Iteration 28, loss = 0.21408424\n",
      "Iteration 29, loss = 0.19750005\n",
      "Iteration 30, loss = 0.18197623\n",
      "Iteration 31, loss = 0.16751174\n",
      "Iteration 32, loss = 0.15408286\n",
      "Iteration 33, loss = 0.14165024\n",
      "Iteration 34, loss = 0.13016631\n",
      "Iteration 35, loss = 0.11958141\n",
      "Iteration 36, loss = 0.10984743\n",
      "Iteration 37, loss = 0.10091882\n",
      "Iteration 38, loss = 0.09275188\n",
      "Iteration 39, loss = 0.08530308\n",
      "Iteration 40, loss = 0.07852772\n",
      "Iteration 41, loss = 0.07237934\n",
      "Iteration 42, loss = 0.06681011\n",
      "Iteration 43, loss = 0.06177176\n",
      "Iteration 44, loss = 0.05721685\n",
      "Iteration 45, loss = 0.05309991\n",
      "Iteration 46, loss = 0.04937824\n",
      "Iteration 47, loss = 0.04601245\n",
      "Iteration 48, loss = 0.04296658\n",
      "Iteration 49, loss = 0.04020807\n",
      "Iteration 50, loss = 0.03770756\n",
      "Iteration 51, loss = 0.03543865\n",
      "Iteration 52, loss = 0.03337762\n",
      "Iteration 53, loss = 0.03150316\n",
      "Iteration 54, loss = 0.02979615\n",
      "Iteration 55, loss = 0.02823944\n",
      "Iteration 56, loss = 0.02681765\n",
      "Iteration 57, loss = 0.02551701\n",
      "Iteration 58, loss = 0.02432523\n",
      "Iteration 59, loss = 0.02323129\n",
      "Iteration 60, loss = 0.02222540\n",
      "Iteration 61, loss = 0.02129878\n",
      "Iteration 62, loss = 0.02044366\n",
      "Iteration 63, loss = 0.01965306\n",
      "Iteration 64, loss = 0.01892079\n",
      "Iteration 65, loss = 0.01824133\n",
      "Iteration 66, loss = 0.01760973\n",
      "Iteration 67, loss = 0.01702159\n",
      "Iteration 68, loss = 0.01647297\n",
      "Iteration 69, loss = 0.01596032\n",
      "Iteration 70, loss = 0.01548049\n",
      "Iteration 71, loss = 0.01503064\n",
      "Iteration 72, loss = 0.01460819\n",
      "Iteration 73, loss = 0.01421086\n",
      "Iteration 74, loss = 0.01383655\n",
      "Iteration 75, loss = 0.01348341\n",
      "Iteration 76, loss = 0.01314972\n",
      "Iteration 77, loss = 0.01283396\n",
      "Iteration 78, loss = 0.01253473\n",
      "Iteration 79, loss = 0.01225078\n",
      "Iteration 80, loss = 0.01198095\n",
      "Iteration 81, loss = 0.01172420\n",
      "Iteration 82, loss = 0.01147957\n",
      "Iteration 83, loss = 0.01124622\n",
      "Iteration 84, loss = 0.01102333\n",
      "Iteration 85, loss = 0.01081020\n",
      "Iteration 86, loss = 0.01060616\n",
      "Iteration 87, loss = 0.01041061\n",
      "Iteration 88, loss = 0.01022299\n",
      "Iteration 89, loss = 0.01004280\n",
      "Iteration 90, loss = 0.00986957\n",
      "Iteration 91, loss = 0.00970287\n",
      "Iteration 92, loss = 0.00954230\n",
      "Iteration 93, loss = 0.00938751\n",
      "Iteration 94, loss = 0.00923816\n",
      "Iteration 95, loss = 0.00909394\n",
      "Iteration 96, loss = 0.00895456\n",
      "Iteration 97, loss = 0.00881976\n",
      "Iteration 98, loss = 0.00868929\n",
      "Iteration 99, loss = 0.00856293\n",
      "Iteration 100, loss = 0.00844047\n",
      "Iteration 101, loss = 0.00832171\n",
      "Iteration 102, loss = 0.00820646\n",
      "Iteration 103, loss = 0.00809456\n",
      "Iteration 104, loss = 0.00798585\n",
      "Iteration 105, loss = 0.00788017\n",
      "Iteration 106, loss = 0.00777740\n",
      "Iteration 107, loss = 0.00767740\n",
      "Iteration 108, loss = 0.00758005\n",
      "Iteration 109, loss = 0.00748524\n",
      "Iteration 110, loss = 0.00739285\n",
      "Iteration 111, loss = 0.00730280\n",
      "Iteration 112, loss = 0.00721497\n",
      "Iteration 113, loss = 0.00712929\n",
      "Iteration 114, loss = 0.00704567\n",
      "Iteration 115, loss = 0.00696403\n",
      "Iteration 116, loss = 0.00688430\n",
      "Iteration 117, loss = 0.00680640\n",
      "Training loss did not improve more than tol=0.000100 for 10 consecutive epochs. Stopping.\n"
     ]
    },
    {
     "data": {
      "text/plain": [
       "MLPClassifier(activation='logistic', alpha=1e-05, batch_size='auto', beta_1=0.9,\n",
       "              beta_2=0.999, early_stopping=False, epsilon=1e-08,\n",
       "              hidden_layer_sizes=(20,), learning_rate='constant',\n",
       "              learning_rate_init=0.1, max_fun=15000, max_iter=200, momentum=0.9,\n",
       "              n_iter_no_change=10, nesterovs_momentum=True, power_t=0.5,\n",
       "              random_state=1, shuffle=True, solver='sgd', tol=0.0001,\n",
       "              validation_fraction=0.1, verbose=True, warm_start=False)"
      ]
     },
     "execution_count": 36,
     "metadata": {},
     "output_type": "execute_result"
    }
   ],
   "source": [
    "mlp.fit(X_train,Y_train)"
   ]
  },
  {
   "cell_type": "code",
   "execution_count": 37,
   "metadata": {},
   "outputs": [
    {
     "name": "stdout",
     "output_type": "stream",
     "text": [
      "[1 1 1 1 0 1 0 0 1 0 1 0 1 0 1 1 0 1 1 1 0 1 1 1 1 0 0 0 0 0 1 0 0 1 0 0 0\n",
      " 0 1 0 0 1]\n"
     ]
    }
   ],
   "source": [
    "pred=mlp.predict(X_test)\n",
    "print(pred)"
   ]
  },
  {
   "cell_type": "code",
   "execution_count": 38,
   "metadata": {},
   "outputs": [
    {
     "name": "stdout",
     "output_type": "stream",
     "text": [
      "[0 0 1 1 0 1 1 0 1 0 0 0 1 1 0 0 0 0 0 0 1 1 1 1 1 1 0 1 1 0 0 1 0 1 0 0 0\n",
      " 0 0 0 0 0 1 1 0 0 1 1 0 0 0 1 1 1 0 0 1 1 0 1 0 0 0 0 0 1 1 0 0 0 1 0 1 1\n",
      " 0 1 1 0 1 1 1 1 1 0 1 0 1 1 0 0 0 0 1 1 1 0 0 0 0 1 0 1 0 0 1 1 1 1 0 0 1\n",
      " 0 0 0 1 1 0 1 0 0 1 1 0 0 0 1 0 0 0 1 0 0 0 0 1 0 1 0 1 0 0 0 1 1 1 0 1 0\n",
      " 0 0 1 1 0 1 1 1 1 1 1 0 0 1 0 0 1 0]\n"
     ]
    }
   ],
   "source": [
    "pred1=mlp.predict(X_train)\n",
    "print(pred1)"
   ]
  },
  {
   "cell_type": "code",
   "execution_count": 40,
   "metadata": {},
   "outputs": [
    {
     "name": "stdout",
     "output_type": "stream",
     "text": [
      "[0 0 1 1 0 1 1 0 1 0 0 0 1 1 0 0 0 0 0 0 1 1 1 1 1 1 0 1 1 0 0 1 0 1 0 0 0\n",
      " 0 0 0 0 0 1 1 0 0 1 1 0 0 0 1 1 1 0 0 1 1 0 1 0 0 0 0 0 1 1 0 0 0 1 0 1 1\n",
      " 0 1 1 0 1 1 1 1 1 0 1 0 1 1 0 0 0 0 1 1 1 0 0 0 0 1 0 1 0 0 1 1 1 1 0 0 1\n",
      " 0 0 0 1 1 0 1 0 0 1 1 0 0 0 1 0 0 0 1 0 0 0 0 1 0 1 0 1 0 0 0 1 1 1 0 1 0\n",
      " 0 0 1 1 0 1 1 1 1 1 1 0 0 1 0 0 1 0]\n"
     ]
    }
   ],
   "source": [
    "print(Y_train)"
   ]
  },
  {
   "cell_type": "code",
   "execution_count": 47,
   "metadata": {},
   "outputs": [
    {
     "name": "stdout",
     "output_type": "stream",
     "text": [
      "100.0\n",
      "\n",
      " [[90  0]\n",
      " [ 0 76]]\n"
     ]
    }
   ],
   "source": [
    "from sklearn.metrics import accuracy_score,confusion_matrix\n",
    "print(accuracy_score(Y_train,pred1)*100)\n",
    "print(\"\\n\",confusion_matrix(Y_train,pred1))"
   ]
  },
  {
   "cell_type": "markdown",
   "metadata": {},
   "source": []
  },
  {
   "cell_type": "code",
   "execution_count": null,
   "metadata": {},
   "outputs": [],
   "source": []
  }
 ],
 "metadata": {
  "kernelspec": {
   "display_name": "Python 3",
   "language": "python",
   "name": "python3"
  },
  "language_info": {
   "codemirror_mode": {
    "name": "ipython",
    "version": 3
   },
   "file_extension": ".py",
   "mimetype": "text/x-python",
   "name": "python",
   "nbconvert_exporter": "python",
   "pygments_lexer": "ipython3",
   "version": "3.7.3"
  }
 },
 "nbformat": 4,
 "nbformat_minor": 4
}
